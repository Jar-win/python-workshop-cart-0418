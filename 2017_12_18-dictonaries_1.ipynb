{
 "cells": [
  {
   "cell_type": "markdown",
   "metadata": {},
   "source": [
    "# Dictonaries"
   ]
  },
  {
   "cell_type": "markdown",
   "metadata": {},
   "source": [
    "##### word: meaning\n",
    "##### python: snake found in africa, asia, australia\n",
    "##### word -> key,  meaning -> value \n",
    "### key: value"
   ]
  },
  {
   "cell_type": "markdown",
   "metadata": {},
   "source": [
    "https://docs.python.org/3/tutorial/datastructures.html For more Dictionary related functions"
   ]
  },
  {
   "cell_type": "code",
   "execution_count": 3,
   "metadata": {},
   "outputs": [],
   "source": [
    "star_wars_list = [['Episode IV', 1977],\n",
    " ['Episode V', 1980],\n",
    " ['Episode VI', 1983],\n",
    " ['Episode I', 1999],\n",
    " ['Episode II', 2002],\n",
    " ['Episode III', 2005]]"
   ]
  },
  {
   "cell_type": "code",
   "execution_count": 5,
   "metadata": {},
   "outputs": [
    {
     "name": "stdout",
     "output_type": "stream",
     "text": [
      "[['Episode IV', 1977, 'A new hope'], ['Episode V', 1980, 'Empire Strikes Back'], ['Episode VI', 1983, 'Return of a Jedi'], ['Episode I', 1999], ['Episode II', 2002], ['Episode III', 2005]]\n"
     ]
    }
   ],
   "source": [
    "star_wars_list[0].append(\"A new hope\")\n",
    "star_wars_list[1].append(\"Empire Strikes Back\")\n",
    "star_wars_list[2].append(\"Return of a Jedi\")\n",
    "\n",
    "print(star_wars_list)"
   ]
  },
  {
   "cell_type": "code",
   "execution_count": 10,
   "metadata": {},
   "outputs": [],
   "source": [
    "star_wars_dict = {\"Episode IV\": [1977],\n",
    "                  'Episode V':[1980],\n",
    "                  'Episode VI': [1983]\n",
    "                 }\n"
   ]
  },
  {
   "cell_type": "code",
   "execution_count": 14,
   "metadata": {},
   "outputs": [],
   "source": [
    "star_wars_dict[\"Episode IV\"].append(\"George Lucas\")\n",
    "star_wars_dict[\"Episode V\"].append(\"George Lucas\")\n",
    "star_wars_dict[\"Episode VI\"].append(\"George Lucas\")"
   ]
  },
  {
   "cell_type": "code",
   "execution_count": 15,
   "metadata": {},
   "outputs": [
    {
     "data": {
      "text/plain": [
       "{'Episode IV': [1977, 'A new Hope', 'George Lucas'],\n",
       " 'Episode V': [1980, 'Empire Strikes Back', 'George Lucas'],\n",
       " 'Episode VI': [1983, 'Return of the Jedi', 'George Lucas']}"
      ]
     },
     "execution_count": 15,
     "metadata": {},
     "output_type": "execute_result"
    }
   ],
   "source": [
    "star_wars_dict"
   ]
  },
  {
   "cell_type": "markdown",
   "metadata": {},
   "source": [
    "##### can you make a list a key?\n",
    "##### can you key with tuple?\n",
    "##### what's the difference?"
   ]
  },
  {
   "cell_type": "code",
   "execution_count": 16,
   "metadata": {},
   "outputs": [
    {
     "data": {
      "text/plain": [
       "dict_keys(['Episode IV', 'Episode V', 'Episode VI'])"
      ]
     },
     "execution_count": 16,
     "metadata": {},
     "output_type": "execute_result"
    }
   ],
   "source": [
    "star_wars_dict.keys()"
   ]
  },
  {
   "cell_type": "code",
   "execution_count": 19,
   "metadata": {},
   "outputs": [
    {
     "data": {
      "text/plain": [
       "dict_values([[1977, 'A new Hope', 'George Lucas'], [1980, 'Empire Strikes Back', 'George Lucas'], [1983, 'Return of the Jedi', 'George Lucas']])"
      ]
     },
     "execution_count": 19,
     "metadata": {},
     "output_type": "execute_result"
    }
   ],
   "source": [
    "star_wars_dict.values()"
   ]
  },
  {
   "cell_type": "markdown",
   "metadata": {},
   "source": [
    "#### adding a key-value pair to dictonary"
   ]
  },
  {
   "cell_type": "code",
   "execution_count": 20,
   "metadata": {},
   "outputs": [
    {
     "data": {
      "text/plain": [
       "{'Episode IV': [1977, 'A new Hope', 'George Lucas'],\n",
       " 'Episode V': [1980, 'Empire Strikes Back', 'George Lucas'],\n",
       " 'Episode VI': [1983, 'Return of the Jedi', 'George Lucas']}"
      ]
     },
     "execution_count": 20,
     "metadata": {},
     "output_type": "execute_result"
    }
   ],
   "source": [
    "star_wars_dict"
   ]
  },
  {
   "cell_type": "code",
   "execution_count": 25,
   "metadata": {},
   "outputs": [],
   "source": [
    "star_wars_dict[\"Episode I\"] = [1999, \"Phantom\", \"George Lucas\"]"
   ]
  },
  {
   "cell_type": "code",
   "execution_count": 26,
   "metadata": {},
   "outputs": [
    {
     "data": {
      "text/plain": [
       "{'Episode I': [1999, 'Phantom', 'George Lucas'],\n",
       " 'Episode IV': [1977, 'A new Hope', 'George Lucas'],\n",
       " 'Episode V': [1980, 'Empire Strikes Back', 'George Lucas'],\n",
       " 'Episode VI': [1983, 'Return of the Jedi', 'George Lucas']}"
      ]
     },
     "execution_count": 26,
     "metadata": {},
     "output_type": "execute_result"
    }
   ],
   "source": [
    "star_wars_dict"
   ]
  },
  {
   "cell_type": "markdown",
   "metadata": {},
   "source": [
    "# There is no indexing in the dictonaries.You can call values only through the respective keys"
   ]
  },
  {
   "cell_type": "markdown",
   "metadata": {},
   "source": [
    "Removing the `key-value` pair"
   ]
  },
  {
   "cell_type": "code",
   "execution_count": 29,
   "metadata": {},
   "outputs": [
    {
     "data": {
      "text/plain": [
       "[1999, 'Phantom', 'George Lucas']"
      ]
     },
     "execution_count": 29,
     "metadata": {},
     "output_type": "execute_result"
    }
   ],
   "source": [
    "star_wars_dict.pop(\"Episode I\")"
   ]
  },
  {
   "cell_type": "code",
   "execution_count": 30,
   "metadata": {},
   "outputs": [
    {
     "data": {
      "text/plain": [
       "{'Episode IV': [1977, 'A new Hope', 'George Lucas'],\n",
       " 'Episode V': [1980, 'Empire Strikes Back', 'George Lucas'],\n",
       " 'Episode VI': [1983, 'Return of the Jedi', 'George Lucas']}"
      ]
     },
     "execution_count": 30,
     "metadata": {},
     "output_type": "execute_result"
    }
   ],
   "source": [
    "star_wars_dict"
   ]
  },
  {
   "cell_type": "code",
   "execution_count": 31,
   "metadata": {},
   "outputs": [],
   "source": [
    "star_wars_dict[\"Episode V\"] = \"\""
   ]
  },
  {
   "cell_type": "code",
   "execution_count": 32,
   "metadata": {},
   "outputs": [
    {
     "data": {
      "text/plain": [
       "{'Episode IV': [1977, 'A new Hope', 'George Lucas'],\n",
       " 'Episode V': '',\n",
       " 'Episode VI': [1983, 'Return of the Jedi', 'George Lucas']}"
      ]
     },
     "execution_count": 32,
     "metadata": {},
     "output_type": "execute_result"
    }
   ],
   "source": [
    "star_wars_dict"
   ]
  },
  {
   "cell_type": "code",
   "execution_count": 33,
   "metadata": {},
   "outputs": [],
   "source": [
    "del star_wars_dict[\"Episode V\"]"
   ]
  },
  {
   "cell_type": "code",
   "execution_count": 34,
   "metadata": {},
   "outputs": [
    {
     "data": {
      "text/plain": [
       "{'Episode IV': [1977, 'A new Hope', 'George Lucas'],\n",
       " 'Episode VI': [1983, 'Return of the Jedi', 'George Lucas']}"
      ]
     },
     "execution_count": 34,
     "metadata": {},
     "output_type": "execute_result"
    }
   ],
   "source": [
    "star_wars_dict"
   ]
  },
  {
   "cell_type": "markdown",
   "metadata": {},
   "source": [
    "##### What if the key dosen't exist?"
   ]
  },
  {
   "cell_type": "code",
   "execution_count": 35,
   "metadata": {},
   "outputs": [
    {
     "ename": "KeyError",
     "evalue": "'Episode 23'",
     "output_type": "error",
     "traceback": [
      "\u001b[0;31m---------------------------------------------------------------------------\u001b[0m",
      "\u001b[0;31mKeyError\u001b[0m                                  Traceback (most recent call last)",
      "\u001b[0;32m<ipython-input-35-6b79680d298d>\u001b[0m in \u001b[0;36m<module>\u001b[0;34m()\u001b[0m\n\u001b[0;32m----> 1\u001b[0;31m \u001b[0mstar_wars_dict\u001b[0m\u001b[0;34m[\u001b[0m\u001b[0;34m\"Episode 23\"\u001b[0m\u001b[0;34m]\u001b[0m\u001b[0;34m\u001b[0m\u001b[0m\n\u001b[0m",
      "\u001b[0;31mKeyError\u001b[0m: 'Episode 23'"
     ]
    }
   ],
   "source": [
    "star_wars_dict[\"Episode 23\"]"
   ]
  },
  {
   "cell_type": "code",
   "execution_count": 37,
   "metadata": {},
   "outputs": [],
   "source": [
    "star_wars_dict.get(\"Episode 23\")"
   ]
  },
  {
   "cell_type": "code",
   "execution_count": 38,
   "metadata": {},
   "outputs": [
    {
     "data": {
      "text/plain": [
       "[1977, 'A new Hope', 'George Lucas']"
      ]
     },
     "execution_count": 38,
     "metadata": {},
     "output_type": "execute_result"
    }
   ],
   "source": [
    "star_wars_dict.get(\"Episode IV\")"
   ]
  },
  {
   "cell_type": "markdown",
   "metadata": {},
   "source": [
    "If a value exists, the get method will return it, otherwise it'll return *nothing*"
   ]
  },
  {
   "cell_type": "code",
   "execution_count": null,
   "metadata": {},
   "outputs": [],
   "source": []
  }
 ],
 "metadata": {
  "kernelspec": {
   "display_name": "Python 3",
   "language": "python",
   "name": "python3"
  },
  "language_info": {
   "codemirror_mode": {
    "name": "ipython",
    "version": 3
   },
   "file_extension": ".py",
   "mimetype": "text/x-python",
   "name": "python",
   "nbconvert_exporter": "python",
   "pygments_lexer": "ipython3",
   "version": "3.6.4"
  }
 },
 "nbformat": 4,
 "nbformat_minor": 2
}
