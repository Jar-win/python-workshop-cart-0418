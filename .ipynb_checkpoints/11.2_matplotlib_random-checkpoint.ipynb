{
 "cells": [
  {
   "cell_type": "code",
   "execution_count": 1,
   "metadata": {},
   "outputs": [],
   "source": [
    "import matplotlib.pyplot as plt\n",
    "import numpy as np"
   ]
  },
  {
   "cell_type": "markdown",
   "metadata": {},
   "source": [
    "## Normal Distribution"
   ]
  },
  {
   "cell_type": "code",
   "execution_count": 2,
   "metadata": {},
   "outputs": [],
   "source": [
    "x = np.random.normal(size=1000)"
   ]
  },
  {
   "cell_type": "code",
   "execution_count": 4,
   "metadata": {
    "collapsed": true
   },
   "outputs": [
    {
     "data": {
      "text/plain": [
       "array([ 7.80246884e-01, -2.18017779e-01,  2.19334929e+00,  5.34923652e-01,\n",
       "       -1.76033030e+00,  2.14410582e-01,  4.77944718e-01,  8.78839728e-02,\n",
       "       -1.65963131e+00, -5.13859942e-01, -5.63780002e-01,  5.82525790e-01,\n",
       "       -4.14179497e-01, -2.53977502e+00,  6.69438160e-01, -2.29376927e-01,\n",
       "       -6.83145129e-01, -2.73735294e-01, -5.27502847e-01, -3.89349456e-01,\n",
       "       -1.03544812e+00, -5.84903228e-01,  1.38727588e+00, -3.20733356e-01,\n",
       "       -1.48350917e+00, -1.74967964e-01, -1.17156557e-01,  6.68549999e-01,\n",
       "       -4.42183517e-02,  1.21765721e+00, -9.83572622e-01, -2.33323755e+00,\n",
       "        1.07546055e+00,  9.07231003e-01,  4.33338724e-01, -1.48880471e+00,\n",
       "        8.18027067e-01,  5.37763940e-01, -8.05288293e-01, -1.05238909e+00,\n",
       "        3.31530836e-01, -1.99668220e+00, -3.72267108e-01,  5.33758655e-01,\n",
       "       -8.17822066e-03,  3.76002129e-01, -8.90358929e-01, -2.83212184e-01,\n",
       "       -2.68503966e-01,  4.76799148e-01, -9.96650053e-01, -1.99198453e+00,\n",
       "        1.50413702e+00, -4.44353492e-01,  7.45959092e-01, -1.11950142e-01,\n",
       "        1.93792824e-01, -6.55936889e-01,  4.39994776e-01,  2.58283873e-01,\n",
       "       -7.15476403e-01, -1.66969496e+00, -1.38467170e+00, -1.53400849e-01,\n",
       "       -6.43980397e-03,  1.08499704e+00, -2.85745447e+00, -7.14843809e-02,\n",
       "       -9.28540979e-01, -1.52507653e+00,  5.11510396e-01,  1.11405451e+00,\n",
       "        2.97402827e-02, -3.25113681e-01,  2.44039725e-01,  1.24038971e+00,\n",
       "        1.35286947e+00, -2.66948607e+00, -1.15162495e+00, -1.95364121e-01,\n",
       "       -2.58211382e+00, -2.94147235e-01, -1.22345905e+00, -1.65461625e+00,\n",
       "       -7.90539134e-01, -1.93510858e+00, -1.33536164e-01,  9.44937086e-01,\n",
       "        7.93257614e-01, -7.39709264e-01, -4.19482594e-01,  1.35543972e-01,\n",
       "        8.01031666e-02,  1.07667388e-01,  1.34954443e+00,  6.70711109e-01,\n",
       "        6.82599027e-01,  1.91791641e+00,  2.41262523e+00,  1.37090639e+00,\n",
       "        5.88847765e-01, -4.68283131e-01,  5.98154617e-01,  1.89012862e+00,\n",
       "       -9.00510912e-01,  4.29160093e-01, -7.93615025e-01, -3.04397558e-02,\n",
       "       -1.70895831e-01, -9.52337420e-02, -8.17357027e-01,  1.73584084e+00,\n",
       "       -7.34047072e-01, -1.25827209e+00,  1.29524827e+00,  1.61781395e+00,\n",
       "       -1.42006001e+00,  5.52265003e-01, -2.28481450e+00, -3.50362638e-01,\n",
       "       -5.55528520e-01,  6.79814031e-01,  4.01071780e-01,  3.34633272e-01,\n",
       "        7.63717117e-01, -4.12428541e-01,  1.51705585e+00, -1.79930460e+00,\n",
       "       -2.49196876e-01, -3.99414748e-01,  7.87299734e-01, -2.45954141e-01,\n",
       "        1.68644229e+00, -3.94758451e-01,  1.84767790e+00, -4.46820737e-01,\n",
       "        5.75424182e-01,  1.09717591e-02, -4.64723869e-02, -2.06090778e-01,\n",
       "        1.42031175e-01,  2.35428552e-01, -5.84379666e-01,  8.57433599e-01,\n",
       "        6.04907064e-01,  1.43986874e+00,  8.35397835e-01, -1.30117758e+00,\n",
       "        1.47524008e+00,  1.92969173e+00, -1.01842472e+00,  1.33078029e+00,\n",
       "       -1.93844344e-01, -5.62412516e-01,  3.83210264e-01, -1.20292008e+00,\n",
       "        5.48802568e-01, -2.38596957e-01, -3.12139378e-01,  9.90368739e-01,\n",
       "       -1.48185116e+00, -1.66805773e-01,  1.88088315e-01, -5.76977094e-01,\n",
       "       -9.71822189e-02,  2.19220817e-01,  6.24717780e-01, -4.47282110e-01,\n",
       "        6.80976250e-01, -1.36922747e+00,  1.27802777e+00, -1.10843701e+00,\n",
       "       -4.15401515e-01, -1.17008131e+00, -3.07886298e+00, -9.83532330e-01,\n",
       "        8.40117379e-01,  8.22029165e-01, -1.06558931e+00,  9.59270499e-01,\n",
       "       -1.34082877e-01, -2.87273964e-01,  1.02140297e+00,  1.43227188e+00,\n",
       "        9.55324356e-02, -1.86768140e-01, -4.22730525e-01,  1.10503423e+00,\n",
       "        7.46165218e-01,  9.44235134e-01, -4.67908756e-02,  3.35631754e+00,\n",
       "       -7.25951932e-01,  7.17144879e-01, -4.60970886e-01,  2.95179431e-02,\n",
       "        8.74909265e-01,  1.27335076e-01, -5.29461068e-01, -7.56156974e-01,\n",
       "       -5.84905540e-01, -5.77870875e-01, -6.95375636e-01,  1.15265277e+00,\n",
       "        1.19971887e+00,  9.59708259e-01,  3.06761997e-01, -9.14043235e-01,\n",
       "        1.27662245e+00,  8.31116079e-01, -5.59512435e-01,  9.43806805e-01,\n",
       "       -1.31258896e-01,  6.25662863e-01,  6.31934565e-01,  1.21487517e-01,\n",
       "       -8.33261323e-01,  1.27212246e+00,  1.56410353e+00, -1.25636565e+00,\n",
       "       -6.97615681e-01, -2.70449249e-01, -2.28439595e-01, -7.40752026e-01,\n",
       "        1.06047583e+00,  2.84691760e+00, -1.11532992e-01, -1.75263680e+00,\n",
       "        4.59237757e-01,  2.36927001e-01, -9.61770594e-01,  1.45955687e+00,\n",
       "        1.40459068e-01,  3.42132524e-01, -1.98804170e-01, -2.10227090e+00,\n",
       "        6.38238095e-01, -1.63169741e+00,  2.41660791e-03,  9.06185079e-01,\n",
       "        2.20233681e+00, -4.94749455e-01, -9.30629086e-01,  7.69859955e-01,\n",
       "       -2.30600950e-01, -4.29419472e-01, -4.46629056e-01, -4.85106233e-03,\n",
       "        4.64627310e-01,  2.28846965e+00,  1.26225820e-01,  6.10184516e-01,\n",
       "        8.11089883e-02, -1.16316931e+00,  1.56137118e+00, -1.29815918e-01,\n",
       "       -3.17629158e-01, -5.42923392e-01, -1.15242092e+00,  7.94527614e-01,\n",
       "        2.87196189e-01, -1.81755320e+00,  9.80158041e-02, -1.44017671e+00,\n",
       "        1.04918491e+00, -1.82652301e+00, -1.42199279e+00,  1.88845654e+00,\n",
       "       -2.62448519e-01,  1.11479675e+00,  5.65016582e-02, -7.42398619e-01,\n",
       "       -7.99726084e-01, -2.10623678e+00, -1.14255003e+00, -2.89497514e-01,\n",
       "       -7.29894208e-01,  1.30578826e-01,  2.73994928e-02,  1.70347758e+00,\n",
       "        1.25847254e+00, -4.23624518e-01, -8.48714002e-01, -2.90611705e-02,\n",
       "       -1.03198411e-01,  2.00302163e+00,  1.11474208e+00, -2.75149154e-01,\n",
       "       -1.90063362e+00, -1.05084431e+00, -3.21641842e-02,  4.95636923e-01,\n",
       "        2.49347579e-01, -1.10983317e+00, -3.01409398e+00, -3.31715435e-01,\n",
       "        4.22363103e-01,  1.58070630e-01, -9.61748941e-02, -1.46556869e+00,\n",
       "        5.66002705e-01, -5.22788219e-01,  9.21190681e-01,  7.63863547e-01,\n",
       "        3.71934526e-01,  2.15986674e+00,  1.31163643e+00,  9.77715920e-01,\n",
       "        1.97493569e-01,  7.47377699e-01, -6.25333755e-01, -9.64626190e-02,\n",
       "        1.34450246e+00,  1.37251449e-01, -1.04566296e+00, -2.73545475e-01,\n",
       "        1.97020554e+00, -6.35263031e-01,  1.08021002e+00,  6.05959846e-01,\n",
       "        1.12179703e+00, -1.70572026e+00,  1.13588454e+00,  3.35474342e+00,\n",
       "        1.15736339e+00,  1.48077557e+00, -1.12349243e+00, -3.44951781e-01,\n",
       "       -5.92883118e-01,  3.88458786e-01,  2.54391961e-01,  2.19506457e-03,\n",
       "        7.18125345e-01, -6.33541311e-01,  1.33884290e+00,  1.18575469e-01,\n",
       "       -8.46558942e-01, -8.28394237e-01,  1.64914651e-01,  1.24956353e+00,\n",
       "       -1.69913419e+00,  1.67855308e+00, -2.21180859e-01,  1.05520432e+00,\n",
       "       -9.65334758e-01, -2.03568667e+00, -1.13189614e+00,  1.70223337e+00,\n",
       "        1.06249398e+00, -1.10917400e+00, -1.00793386e+00, -6.26237738e-01,\n",
       "       -1.73621562e+00, -2.15700531e-01,  3.59889560e-02,  8.54650799e-01,\n",
       "        6.53659982e-01, -1.15004910e+00,  1.19686561e-01,  1.46282928e-01,\n",
       "       -1.47359017e+00, -1.22695046e-01, -8.92619384e-01, -1.11500155e-01,\n",
       "       -8.83856218e-01,  7.88934465e-01,  1.04716987e+00,  1.09270659e+00,\n",
       "        8.88036477e-01, -1.48998346e-02,  2.36086445e+00, -7.57938320e-01,\n",
       "       -4.83419745e-01,  1.23338661e+00, -6.43245323e-01, -6.69585128e-01,\n",
       "        1.15675318e+00, -2.59932586e+00,  6.66826628e-01, -1.35036170e+00,\n",
       "       -1.99028031e+00, -9.08049574e-01,  1.56882201e+00, -1.42157831e+00,\n",
       "        5.34969713e-01,  2.15308201e-01, -4.63358992e-02,  1.34077419e+00,\n",
       "       -2.73889387e-01,  4.12353524e-01, -3.37595769e+00,  1.01770966e+00,\n",
       "        3.33969659e-01,  6.50331921e-01,  1.30349302e+00,  9.33911243e-01,\n",
       "        1.22131079e+00, -1.26172211e+00,  1.79253275e+00, -4.60815686e-01,\n",
       "       -1.27541062e+00,  9.93708917e-01,  4.36487322e-01,  9.89043191e-01,\n",
       "        9.71129450e-01, -2.93901798e-01, -8.24681803e-01, -1.73100867e-01,\n",
       "        3.51466366e-01,  2.83536020e-02, -1.20118281e+00, -1.50955757e+00,\n",
       "       -5.82949768e-01, -6.72939272e-01,  1.35624791e+00, -3.22903288e-01,\n",
       "       -2.06774135e-01,  8.98078384e-01, -2.32695755e+00,  1.49471849e+00,\n",
       "       -1.35125903e+00,  5.85848163e-01,  1.39993823e+00, -2.45102866e-01,\n",
       "        9.89508631e-01, -5.85013665e-01, -3.21433620e-01, -1.55393447e+00,\n",
       "       -1.73478142e+00,  1.26906094e-01, -1.97358727e+00,  4.43362629e-01,\n",
       "       -7.63689693e-01,  1.43288270e-01,  3.32108852e-01, -1.49489771e-01,\n",
       "       -5.50604469e-01, -4.11849224e-01, -1.68388446e-01, -6.55956436e-01,\n",
       "       -4.16444091e-01, -3.09035218e-01,  6.77849830e-01,  4.07254996e-01,\n",
       "        1.57930033e+00,  3.37098338e-01,  1.60522917e+00,  1.26661000e+00,\n",
       "        1.46391341e-02, -4.89965527e-01,  6.59602776e-01, -7.78251679e-01,\n",
       "        2.14561218e-01, -1.04147837e+00, -4.54918873e-01, -4.50213747e-01,\n",
       "        1.11559723e+00, -5.02885533e-01, -4.67668741e-02,  1.23022436e+00,\n",
       "       -4.76184731e-01,  1.25627122e+00,  4.94033823e-02, -3.20218674e-01,\n",
       "        1.48011743e+00, -8.01718709e-01,  6.00963594e-01, -8.21794977e-01,\n",
       "        1.30058421e+00,  5.19321621e-01, -6.25863241e-02, -2.39413116e-01,\n",
       "        8.99617412e-01, -5.26040088e-01,  6.65675283e-01, -1.05988470e-01,\n",
       "       -1.40212470e+00, -3.19013846e-01, -1.86461531e-01, -3.27016669e-01,\n",
       "        9.94845665e-01,  2.83793072e-02, -9.55434247e-01,  1.27968047e-01,\n",
       "        9.91377908e-01, -6.10707566e-02,  5.52034035e-01, -1.13869606e+00,\n",
       "       -3.64215304e-01, -6.22877331e-01,  1.29566737e+00,  2.53638369e-01,\n",
       "        7.38363775e-01,  1.95293125e+00, -1.07528417e+00, -1.34668445e+00,\n",
       "        9.49694535e-01,  2.78199653e-01, -1.21712027e+00,  3.09654467e-01,\n",
       "        6.04228938e-01,  5.16519357e-01,  2.10767102e+00, -1.72341341e-01,\n",
       "        7.68852747e-01,  1.33615168e+00, -6.42440209e-01,  2.12853550e-01,\n",
       "        8.52793922e-01, -6.31673149e-01,  1.03113480e+00, -2.77250124e+00,\n",
       "       -1.34619004e+00,  9.23333029e-01,  2.52523831e-01,  6.18418577e-01,\n",
       "       -6.13710330e-01, -1.27762742e+00,  3.54634178e-01,  1.47965663e+00,\n",
       "        3.11748956e-01, -4.17928935e-01,  1.34173392e+00,  3.49678857e-01,\n",
       "       -2.23913896e-01,  7.35596115e-01,  2.16133485e-01,  5.36628744e-01,\n",
       "        9.27683599e-01,  7.34176352e-01,  2.56216619e-01, -3.06882923e+00,\n",
       "        1.92127606e-01,  8.38656407e-01,  2.25205921e+00, -2.10495533e+00,\n",
       "        3.65774621e-01, -6.15461798e-01, -6.99055575e-01, -8.44820113e-01,\n",
       "        4.02857517e-01, -1.03863347e+00, -2.39486166e-01,  7.47984522e-01,\n",
       "       -3.14498166e-02,  6.89277109e-03, -1.09830120e+00,  3.22786914e-01,\n",
       "        4.37262477e-01,  1.34889473e-01, -7.57774816e-01,  6.27517340e-01,\n",
       "        9.28332542e-02,  2.54210317e-03,  1.67532354e+00, -1.47910011e+00,\n",
       "        5.08796104e-01,  6.84621083e-01,  2.70310063e-01, -8.27403779e-01,\n",
       "       -4.89495423e-01, -2.22254904e-01,  2.55343337e+00,  4.07908253e-01,\n",
       "        1.47584005e+00,  1.49699224e+00,  2.94490519e-02, -1.00042378e+00,\n",
       "       -2.12379648e+00,  1.80310735e+00,  3.69094422e-01, -4.30632820e-01,\n",
       "        1.01368152e+00, -1.15597905e-01,  1.45155493e-02, -1.00949074e+00,\n",
       "        2.65928762e+00, -2.53374069e-01,  2.29365593e+00,  2.37715689e-01,\n",
       "        5.63281142e-01, -9.23150921e-01,  1.03448561e+00,  4.09523386e-01,\n",
       "       -5.11132788e-01,  3.15521238e-01,  1.09178715e+00, -4.39300694e-02,\n",
       "        1.28745293e+00, -7.98024749e-01,  3.98513808e-01,  1.03775440e+00,\n",
       "        8.65627329e-01, -1.30619070e+00, -8.26827744e-01, -3.38422826e-01,\n",
       "       -3.06899742e-01,  1.68572458e-01, -7.83957103e-01, -2.32491460e-01,\n",
       "       -2.05141208e+00, -1.27992077e+00,  2.12598465e+00,  4.30604109e-01,\n",
       "        2.39270265e-01, -3.83889008e-01, -2.92603705e-01, -2.85584219e-01,\n",
       "       -4.74283157e-01,  5.49829517e-02, -2.42727483e-01, -7.46325769e-02,\n",
       "        1.20457866e+00, -1.42054237e+00, -1.35548602e-01,  1.95417909e+00,\n",
       "       -6.31564107e-01,  7.60017649e-01,  1.69681863e+00, -7.30961679e-01,\n",
       "       -1.74296659e+00, -3.61350995e-01,  4.38612882e-01,  1.11840102e+00,\n",
       "       -1.47948025e-01, -2.60353429e-01,  2.89110401e-02, -6.21186366e-01,\n",
       "       -7.59798902e-01, -1.52285441e+00, -3.23260163e-01,  7.03182598e-01,\n",
       "       -1.32224507e+00, -6.69644234e-02,  1.31895594e+00,  1.01394965e+00,\n",
       "        1.84304872e+00,  1.18446628e-01, -9.73453564e-01,  4.09459744e-01,\n",
       "        7.67424792e-01, -8.49733352e-01,  1.10462419e+00, -1.29246935e+00,\n",
       "        1.05411632e+00, -6.27796556e-01, -1.61169457e-01,  8.69965228e-01,\n",
       "        1.08288302e+00, -2.43649310e-01,  8.68186420e-01, -1.14655010e+00,\n",
       "       -1.80331742e+00,  6.11491672e-01, -5.58919784e-02, -4.20731923e-01,\n",
       "       -4.77690334e-01, -6.03134398e-01, -1.42800411e+00, -2.55858910e-01,\n",
       "        4.33398017e-01, -2.27676178e-01, -5.10086127e-01,  2.64106894e-01,\n",
       "       -7.77125507e-02,  1.43193550e+00, -2.85348614e-01, -2.43412174e-01,\n",
       "       -9.87975761e-01,  5.11489350e-01,  4.11394525e-03,  1.96929622e+00,\n",
       "       -4.71878670e-01,  8.06485462e-01, -1.48376887e-02,  9.00160992e-01,\n",
       "        7.83347473e-01, -5.11579910e-01,  1.43762788e-01,  1.28852688e+00,\n",
       "       -6.70321027e-01,  5.21123956e-01,  5.75088982e-01, -2.37192055e-01,\n",
       "        2.94455906e-01, -6.29049642e-01,  6.01484895e-01,  8.87199803e-01,\n",
       "        1.15357766e+00,  1.55535989e+00,  7.25679328e-01, -1.53150303e+00,\n",
       "       -5.59393083e-01, -2.00133176e+00,  1.76019548e-01, -2.26918483e-01,\n",
       "       -9.43310527e-01,  1.72804844e+00, -1.05826040e+00, -6.10614652e-01,\n",
       "       -1.85070307e-01, -5.16156558e-01,  8.14446935e-01, -6.89848881e-01,\n",
       "       -1.23033207e+00,  6.17425268e-01, -6.80941073e-01, -1.29217702e+00,\n",
       "        1.38524106e+00,  4.57992525e-01,  5.63422696e-01,  3.16607832e-01,\n",
       "        4.12355632e-01, -3.29240926e-01,  1.43170645e+00,  3.69030504e-01,\n",
       "        4.16267642e-01, -9.91604040e-01, -4.20274578e-01,  5.13528126e-01,\n",
       "        3.32081297e-01, -1.27578728e+00,  8.00868287e-01,  1.91162155e-01,\n",
       "       -1.16409035e-01, -5.64441256e-02,  1.28724626e+00,  1.67953887e+00,\n",
       "        4.91499929e-01,  2.90821752e-01, -5.58896164e-01,  8.16262615e-02,\n",
       "        7.42006044e-01, -1.31626307e+00,  3.16147083e-01,  9.60020611e-01,\n",
       "       -6.01534459e-01,  1.06585730e+00, -1.75933754e-01,  9.25349655e-01,\n",
       "        1.33252819e+00,  2.82256489e-02,  6.01392355e-01,  8.27790252e-01,\n",
       "        1.01414584e+00,  2.64285130e+00, -3.85057893e-01, -2.45269786e-01,\n",
       "       -1.49671078e+00,  2.13934894e-01, -8.82758932e-01,  9.78009903e-01,\n",
       "       -7.50809659e-01,  1.16812750e+00, -6.89257520e-01,  8.30953173e-01,\n",
       "       -2.58353011e-01,  2.95564829e+00, -1.03714149e+00, -8.81681130e-01,\n",
       "       -5.63602621e-02,  4.37538500e-02,  2.13867418e-01,  1.73922168e+00,\n",
       "       -6.45340131e-01,  4.08049804e-02, -7.19119919e-01,  1.81558641e+00,\n",
       "        4.00423447e-01, -1.46969549e+00, -1.11466667e+00, -2.15255121e-01,\n",
       "        1.75109812e-01,  2.71040461e-01, -7.12889475e-02, -1.82997796e-01,\n",
       "       -1.00852962e+00,  6.70397800e-01, -1.69876113e-01, -2.75348360e-01,\n",
       "       -9.97065137e-01, -1.51162510e-01,  1.04436157e-01, -1.90404996e+00,\n",
       "        3.45466341e-01, -4.77627643e-01, -3.72425829e-01, -2.58462987e-01,\n",
       "       -4.49247532e-01, -2.01255631e-01,  4.26020589e-01, -1.05720075e+00,\n",
       "       -3.40599865e-01,  1.73467843e-01,  5.98577161e-02, -4.51884060e-01,\n",
       "        1.70091725e+00, -8.30299244e-01, -2.89672131e-01, -3.67718376e-01,\n",
       "        1.28712038e+00, -1.39564008e+00, -5.60771396e-01,  2.46881215e+00,\n",
       "        2.86273214e-01,  9.79331064e-02, -2.65290338e-01,  6.23674095e-01,\n",
       "       -4.87568724e-01, -7.64277849e-02,  1.82301054e+00,  1.60427825e+00,\n",
       "        4.11351976e-01, -2.00772347e-01,  6.05742041e-02, -7.51865956e-01,\n",
       "        5.09015576e-01,  1.62200550e-01, -1.64882220e+00, -8.56812055e-01,\n",
       "        5.88681715e-02, -8.71249052e-01,  4.84230166e-01, -3.16625029e-01,\n",
       "       -3.39077014e-01, -4.74965503e-01, -2.93851948e-01,  1.92077397e-03,\n",
       "        8.87199535e-01, -6.59774219e-01, -4.68191742e-01,  1.98515144e-01,\n",
       "       -8.33514236e-01, -7.11478141e-01,  5.77283186e-01, -9.78304716e-02,\n",
       "       -5.82350249e-01,  1.93144180e-01, -4.83931180e-01,  1.21123294e+00,\n",
       "        5.50253903e-01,  1.87024018e+00,  1.71088680e+00, -1.89908034e-01,\n",
       "        8.85806129e-02,  7.00089232e-01,  1.94945281e-01, -1.19192561e+00,\n",
       "        1.20694051e+00, -5.70829742e-01,  3.59336098e-01,  5.04476284e-01,\n",
       "       -7.23705425e-01, -3.67920721e-01,  1.01686757e+00, -1.81528078e-01,\n",
       "       -8.22627576e-01, -5.07576363e-01,  1.79816058e-01,  2.19994175e-02,\n",
       "        5.36041044e-01,  5.89897547e-01, -7.48027447e-01, -1.01463966e-01,\n",
       "       -2.00302674e-01, -8.44985130e-01, -1.92616788e+00,  1.28643760e-01,\n",
       "        1.75073732e+00,  4.13639789e-01, -7.74030584e-01, -2.21082622e+00,\n",
       "        1.31486323e+00, -1.12091652e+00, -3.09289883e-01, -1.62825356e+00,\n",
       "        2.40909691e+00, -6.99669979e-01, -2.18085577e-01,  3.14331643e-01,\n",
       "       -1.69092802e+00, -1.46463623e+00,  7.98625276e-01,  7.37085045e-01,\n",
       "       -1.26503446e+00, -9.69396117e-01, -1.95127878e-01, -1.15911379e+00,\n",
       "       -1.02381438e-01, -6.60199714e-01, -8.61981303e-01,  1.27003021e+00,\n",
       "        1.62677634e+00,  4.95272294e-01, -7.68804855e-01,  6.09946727e-01,\n",
       "       -1.23624437e-01,  3.05924855e-02,  9.30100919e-01,  3.39935717e-01,\n",
       "       -9.18560174e-01, -2.66560727e+00,  5.16142953e-01,  1.57454684e+00,\n",
       "        5.55810714e-01,  8.43284500e-01, -1.51124571e+00,  1.35924678e+00,\n",
       "        7.96512471e-01, -1.31723236e-01, -1.04821449e+00,  9.17995338e-01,\n",
       "       -7.63131642e-02, -8.74343013e-01, -7.93673167e-01, -1.50954180e-01,\n",
       "       -1.38487388e+00, -1.28670084e+00,  2.14182586e+00, -1.06258122e+00,\n",
       "        4.43644962e-01,  2.56892471e+00,  1.21788477e+00, -1.41860704e+00,\n",
       "        2.06558942e-01, -4.18941888e-01, -1.09018441e+00,  1.61209322e+00,\n",
       "        3.14070344e-01, -1.53209324e+00, -2.45514817e-02,  8.91602503e-01,\n",
       "        1.11797896e+00,  2.03116330e+00,  1.70852155e-01, -8.70731186e-01,\n",
       "        2.36376041e+00, -5.62175993e-01,  2.19460363e+00,  5.87614014e-02,\n",
       "       -9.89278153e-01, -2.70589417e-01,  4.45305978e-01, -1.47531031e+00,\n",
       "        2.30278178e-01,  9.65071425e-01, -1.09304983e-01, -2.04579733e-01,\n",
       "       -6.44988626e-01,  1.11400754e+00, -8.91962203e-01,  3.55139315e-02,\n",
       "        1.48542822e-01, -1.11823719e+00,  1.67077674e+00, -6.69772710e-01,\n",
       "        5.61907486e-02, -3.65153777e-01,  1.94040903e-01,  1.27896086e+00,\n",
       "       -1.15158548e+00,  1.10653187e-01,  2.91832914e-01,  2.97473030e-01,\n",
       "        5.83196794e-01, -2.68433351e+00,  1.29892359e+00, -8.40791427e-01,\n",
       "       -5.12483135e-01,  3.59126421e-02,  6.04454989e-01,  2.79825281e-01,\n",
       "       -4.40045039e-02, -3.68164185e-01, -2.28249565e-02,  1.99300952e+00,\n",
       "       -3.72551320e-01,  3.08566531e-01,  2.58231121e-01,  1.82646927e+00,\n",
       "        2.14064805e+00,  8.75764873e-01,  3.31737136e-01,  9.38094492e-01,\n",
       "        8.89939777e-01,  4.92168644e-01, -1.80957560e+00, -1.15598663e+00,\n",
       "       -7.80894192e-02, -2.15178744e+00, -1.96804642e+00, -9.94053471e-01,\n",
       "        6.59349692e-01,  7.03667703e-01, -1.13514653e+00, -1.41590036e+00,\n",
       "        1.03628866e-01,  7.77122283e-01, -2.23157978e-01, -9.95714633e-01])"
      ]
     },
     "execution_count": 4,
     "metadata": {},
     "output_type": "execute_result"
    }
   ],
   "source": [
    "x"
   ]
  },
  {
   "cell_type": "code",
   "execution_count": 3,
   "metadata": {},
   "outputs": [
    {
     "data": {
      "text/plain": [
       "(array([  6.,  17.,  59., 151., 265., 240., 168.,  69.,  21.,   4.]),\n",
       " array([-3.37595769, -2.70273016, -2.02950264, -1.35627512, -0.6830476 ,\n",
       "        -0.00982007,  0.66340745,  1.33663497,  2.0098625 ,  2.68309002,\n",
       "         3.35631754]),\n",
       " <a list of 10 Patch objects>)"
      ]
     },
     "execution_count": 3,
     "metadata": {},
     "output_type": "execute_result"
    },
    {
     "data": {
      "image/png": "[encoded data removed]",
      "text/plain": [
       "<Figure size 432x288 with 1 Axes>"
      ]
     },
     "metadata": {},
     "output_type": "display_data"
    }
   ],
   "source": [
    "plt.hist(x)"
   ]
  },
  {
   "cell_type": "markdown",
   "metadata": {},
   "source": [
    "` by defalut hist uses 10 bins and tries to optimize both bin head and location.`"
   ]
  },
  {
   "cell_type": "code",
   "execution_count": 5,
   "metadata": {},
   "outputs": [
    {
     "name": "stderr",
     "output_type": "stream",
     "text": [
      "/usr/local/lib64/python3.6/site-packages/matplotlib/axes/_axes.py:6448: UserWarning: The 'normed' kwarg is deprecated, and has been replaced by the 'density' kwarg.\n",
      "  warnings.warn(\"The 'normed' kwarg is deprecated, and has been \"\n"
     ]
    },
    {
     "data": {
      "text/plain": [
       "(array([0.00891229, 0.02525149, 0.08763753, 0.22429267, 0.39362621,\n",
       "        0.35649166, 0.24954416, 0.10249135, 0.03119302, 0.00594153]),\n",
       " array([-3.37595769, -2.70273016, -2.02950264, -1.35627512, -0.6830476 ,\n",
       "        -0.00982007,  0.66340745,  1.33663497,  2.0098625 ,  2.68309002,\n",
       "         3.35631754]),\n",
       " <a list of 10 Patch objects>)"
      ]
     },
     "execution_count": 5,
     "metadata": {},
     "output_type": "execute_result"
    },
    {
     "data": {
      "image/png": "[encoded data removed]",
      "text/plain": [
       "<Figure size 432x288 with 1 Axes>"
      ]
     },
     "metadata": {},
     "output_type": "display_data"
    }
   ],
   "source": [
    "plt.hist(x, normed=True)"
   ]
  },
  {
   "cell_type": "markdown",
   "metadata": {},
   "source": [
    "`# y axis, instead of number of observations that fall in each bin we have the proportion of obeservation that falls in each bin`"
   ]
  },
  {
   "cell_type": "code",
   "execution_count": 6,
   "metadata": {},
   "outputs": [
    {
     "name": "stderr",
     "output_type": "stream",
     "text": [
      "/usr/local/lib64/python3.6/site-packages/matplotlib/axes/_axes.py:6448: UserWarning: The 'normed' kwarg is deprecated, and has been replaced by the 'density' kwarg.\n",
      "  warnings.warn(\"The 'normed' kwarg is deprecated, and has been \"\n"
     ]
    },
    {
     "data": {
      "text/plain": [
       "(array([0.    , 0.    , 0.    , 0.0076, 0.0152, 0.0399, 0.1045, 0.2185,\n",
       "        0.3458, 0.418 , 0.323 , 0.2413, 0.114 , 0.0513, 0.0152, 0.0057,\n",
       "        0.    , 0.    , 0.    ]),\n",
       " array([-5.        , -4.47368421, -3.94736842, -3.42105263, -2.89473684,\n",
       "        -2.36842105, -1.84210526, -1.31578947, -0.78947368, -0.26315789,\n",
       "         0.26315789,  0.78947368,  1.31578947,  1.84210526,  2.36842105,\n",
       "         2.89473684,  3.42105263,  3.94736842,  4.47368421,  5.        ]),\n",
       " <a list of 19 Patch objects>)"
      ]
     },
     "execution_count": 6,
     "metadata": {},
     "output_type": "execute_result"
    },
    {
     "data": {
      "image/png": "[encoded data removed]",
      "text/plain": [
       "<Figure size 432x288 with 1 Axes>"
      ]
     },
     "metadata": {},
     "output_type": "display_data"
    }
   ],
   "source": [
    "plt.hist(x, normed=True, bins=np.linspace(-5,5,20))"
   ]
  },
  {
   "cell_type": "markdown",
   "metadata": {},
   "source": [
    "## Gamma distribution"
   ]
  },
  {
   "cell_type": "code",
   "execution_count": 7,
   "metadata": {},
   "outputs": [],
   "source": [
    "x = np.random.gamma(2,3,100000)"
   ]
  },
  {
   "cell_type": "code",
   "execution_count": 9,
   "metadata": {},
   "outputs": [
    {
     "name": "stderr",
     "output_type": "stream",
     "text": [
      "/usr/local/lib64/python3.6/site-packages/matplotlib/axes/_axes.py:6448: UserWarning: The 'normed' kwarg is deprecated, and has been replaced by the 'density' kwarg.\n",
      "  warnings.warn(\"The 'normed' kwarg is deprecated, and has been \"\n"
     ]
    },
    {
     "data": {
      "text/plain": [
       "(array([0.08691, 0.25448, 0.43222, 0.58351, 0.70037, 0.79005, 0.85499,\n",
       "        0.90116, 0.93306, 0.95577, 0.97043, 0.98097, 0.98707, 0.99118,\n",
       "        0.99458, 0.99638, 0.99772, 0.99857, 0.99915, 0.99953, 0.99967,\n",
       "        0.99983, 0.99987, 0.99991, 0.99994, 0.99996, 0.99998, 0.99999,\n",
       "        0.99999, 1.     ]),\n",
       " array([1.01195111e-02, 1.47362378e+00, 2.93712805e+00, 4.40063232e+00,\n",
       "        5.86413659e+00, 7.32764085e+00, 8.79114512e+00, 1.02546494e+01,\n",
       "        1.17181537e+01, 1.31816579e+01, 1.46451622e+01, 1.61086665e+01,\n",
       "        1.75721707e+01, 1.90356750e+01, 2.04991793e+01, 2.19626835e+01,\n",
       "        2.34261878e+01, 2.48896921e+01, 2.63531963e+01, 2.78167006e+01,\n",
       "        2.92802049e+01, 3.07437092e+01, 3.22072134e+01, 3.36707177e+01,\n",
       "        3.51342220e+01, 3.65977262e+01, 3.80612305e+01, 3.95247348e+01,\n",
       "        4.09882390e+01, 4.24517433e+01, 4.39152476e+01]),\n",
       " <a list of 1 Patch objects>)"
      ]
     },
     "execution_count": 9,
     "metadata": {},
     "output_type": "execute_result"
    },
    {
     "data": {
      "image/png": "[encoded data removed]",
      "text/plain": [
       "<Figure size 432x288 with 4 Axes>"
      ]
     },
     "metadata": {},
     "output_type": "display_data"
    }
   ],
   "source": [
    "plt.figure()\n",
    "plt.subplot(221)\n",
    "plt.hist(x, bins = 30)\n",
    "plt.subplot(222)\n",
    "plt.hist(x, bins = 30, normed=True)\n",
    "plt.subplot(223)\n",
    "plt.hist(x, bins = 30, cumulative=30)\n",
    "plt.subplot(224)\n",
    "plt.hist(x, bins = 30, normed=True, cumulative=True, histtype=\"step\")"
   ]
  },
  {
   "cell_type": "markdown",
   "metadata": {},
   "source": [
    "### Cumilative Sum"
   ]
  },
  {
   "cell_type": "code",
   "execution_count": 10,
   "metadata": {},
   "outputs": [
    {
     "data": {
      "text/plain": [
       "[<matplotlib.lines.Line2D at 0x7f7b90096710>]"
      ]
     },
     "execution_count": 10,
     "metadata": {},
     "output_type": "execute_result"
    },
    {
     "data": {
      "image/png": "[encoded data removed]",
      "text/plain": [
       "<Figure size 432x288 with 1 Axes>"
      ]
     },
     "metadata": {},
     "output_type": "display_data"
    }
   ],
   "source": [
    "data = np.random.randn(30).cumsum()\n",
    "plt.plot(data, 'k--', label=\"Default\")\n",
    "plt.plot(data, 'r-', drawstyle='steps-post', label='steps=post')"
   ]
  },
  {
   "cell_type": "code",
   "execution_count": null,
   "metadata": {},
   "outputs": [],
   "source": []
  }
 ],
 "metadata": {
  "kernelspec": {
   "display_name": "Python 3",
   "language": "python",
   "name": "python3"
  },
  "language_info": {
   "codemirror_mode": {
    "name": "ipython",
    "version": 3
   },
   "file_extension": ".py",
   "mimetype": "text/x-python",
   "name": "python",
   "nbconvert_exporter": "python",
   "pygments_lexer": "ipython3",
   "version": "3.6.5"
  }
 },
 "nbformat": 4,
 "nbformat_minor": 2
}
