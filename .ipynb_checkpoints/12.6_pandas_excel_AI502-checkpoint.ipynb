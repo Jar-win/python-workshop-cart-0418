{
 "cells": [
  {
   "cell_type": "code",
   "execution_count": 21,
   "metadata": {},
   "outputs": [],
   "source": [
    "import pandas as pd\n",
    "from collections import Counter\n",
    "import matplotlib.pyplot as plt\n",
    "import numpy as np"
   ]
  },
  {
   "cell_type": "code",
   "execution_count": 2,
   "metadata": {},
   "outputs": [],
   "source": [
    "df = pd.read_excel(\"AI502 Flight data.xlsx\", index_col=None, na_values=['NA'], usecols = \"J\")"
   ]
  },
  {
   "cell_type": "code",
   "execution_count": 3,
   "metadata": {},
   "outputs": [],
   "source": [
    "facilitiy = df.values.tolist()\n",
    "facilitiy = facilitiy[1:]"
   ]
  },
  {
   "cell_type": "code",
   "execution_count": 4,
   "metadata": {},
   "outputs": [],
   "source": [
    "# converting the lists of lists to list of string\n",
    "reporting_facility = []\n",
    "for r in facilitiy:\n",
    "\treporting_facility.append(r[0])"
   ]
  },
  {
   "cell_type": "code",
   "execution_count": 5,
   "metadata": {},
   "outputs": [],
   "source": [
    "letter_counts = Counter(reporting_facility)\n",
    "airport_code = list(letter_counts.keys())\n",
    "reporting_count =  [letter_counts[airport] for airport in airport_code]"
   ]
  },
  {
   "cell_type": "code",
   "execution_count": 6,
   "metadata": {},
   "outputs": [
    {
     "data": {
      "text/plain": [
       "Counter({'(BLR / VOBL)': 46,\n",
       "         '(DEL / VIDP)': 18,\n",
       "         '(HYD / VOHS)': 75,\n",
       "         '(KTU / VIKO)': 57,\n",
       "         '(VIDD)': 31,\n",
       "         '(VOBG)': 3,\n",
       "         '(VOHY)': 21,\n",
       "         '(VOYK)': 13})"
      ]
     },
     "execution_count": 6,
     "metadata": {},
     "output_type": "execute_result"
    }
   ],
   "source": [
    "letter_counts"
   ]
  },
  {
   "cell_type": "code",
   "execution_count": 7,
   "metadata": {},
   "outputs": [
    {
     "data": {
      "text/plain": [
       "['(DEL / VIDP)',\n",
       " '(VIDD)',\n",
       " '(KTU / VIKO)',\n",
       " '(HYD / VOHS)',\n",
       " '(VOHY)',\n",
       " '(VOYK)',\n",
       " '(BLR / VOBL)',\n",
       " '(VOBG)']"
      ]
     },
     "execution_count": 7,
     "metadata": {},
     "output_type": "execute_result"
    }
   ],
   "source": [
    "airport_code"
   ]
  },
  {
   "cell_type": "code",
   "execution_count": 8,
   "metadata": {},
   "outputs": [
    {
     "data": {
      "text/plain": [
       "[18, 31, 57, 75, 21, 13, 46, 3]"
      ]
     },
     "execution_count": 8,
     "metadata": {},
     "output_type": "execute_result"
    }
   ],
   "source": [
    "reporting_count"
   ]
  },
  {
   "cell_type": "code",
   "execution_count": 20,
   "metadata": {},
   "outputs": [
    {
     "data": {
      "image/png": "[encoded data removed]",
      "text/plain": [
       "<Figure size 432x288 with 1 Axes>"
      ]
     },
     "metadata": {},
     "output_type": "display_data"
    }
   ],
   "source": [
    "pos = np.arange(len(airport_code))\n",
    "ax = plt.axes()\n",
    "ax.set_xticklabels(airport_code)\n",
    "\n",
    "plt.bar(airport_code, reporting_count)\n",
    "\n",
    "plt.xlabel(\"Airport Code (IATA/ICAO)\")\n",
    "plt.ylabel(\"Frequency\")\n",
    "plt.title(\"Air India: AI502 - ATC contacts made (Frequency) [2016/10/10]\")\n",
    "\n",
    "plt.xticks(rotation=45)\n",
    "plt.tight_layout()\n",
    "plt.show()"
   ]
  }
 ],
 "metadata": {
  "kernelspec": {
   "display_name": "Python 3",
   "language": "python",
   "name": "python3"
  },
  "language_info": {
   "codemirror_mode": {
    "name": "ipython",
    "version": 3
   },
   "file_extension": ".py",
   "mimetype": "text/x-python",
   "name": "python",
   "nbconvert_exporter": "python",
   "pygments_lexer": "ipython3",
   "version": "3.6.5"
  }
 },
 "nbformat": 4,
 "nbformat_minor": 2
}
