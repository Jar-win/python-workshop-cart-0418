{
 "cells": [
  {
   "cell_type": "code",
   "execution_count": 1,
   "metadata": {},
   "outputs": [],
   "source": [
    "import numpy as np"
   ]
  },
  {
   "cell_type": "markdown",
   "metadata": {},
   "source": [
    "1. Sorting - argsort\n",
    "2. Matrix Slicing\n",
    "3. linspace\n",
    "4. matplotlib\n"
   ]
  },
  {
   "cell_type": "code",
   "execution_count": 2,
   "metadata": {},
   "outputs": [],
   "source": [
    "a = np.array([42,84, 21, 100, 387, 94, 0, 14, 98, 6])"
   ]
  },
  {
   "cell_type": "code",
   "execution_count": 3,
   "metadata": {},
   "outputs": [
    {
     "data": {
      "text/plain": [
       "array([ 42,  84,  21, 100, 387,  94,   0,  14,  98,   6])"
      ]
     },
     "execution_count": 3,
     "metadata": {},
     "output_type": "execute_result"
    }
   ],
   "source": [
    "a"
   ]
  },
  {
   "cell_type": "code",
   "execution_count": 5,
   "metadata": {},
   "outputs": [],
   "source": [
    "sorted_index = np.argsort(a)"
   ]
  },
  {
   "cell_type": "code",
   "execution_count": 6,
   "metadata": {},
   "outputs": [
    {
     "data": {
      "text/plain": [
       "array([  0,   6,  14,  21,  42,  84,  94,  98, 100, 387])"
      ]
     },
     "execution_count": 6,
     "metadata": {},
     "output_type": "execute_result"
    }
   ],
   "source": [
    "a[sorted_index]"
   ]
  },
  {
   "cell_type": "markdown",
   "metadata": {},
   "source": [
    "## matrix slicing "
   ]
  },
  {
   "cell_type": "code",
   "execution_count": 7,
   "metadata": {},
   "outputs": [],
   "source": [
    "mat = [[1,2,3,4],[40,50,60,70],[100, 200, 300, 400],[15, 25,35,45]]"
   ]
  },
  {
   "cell_type": "code",
   "execution_count": 8,
   "metadata": {},
   "outputs": [],
   "source": [
    "mat = np.array(mat)"
   ]
  },
  {
   "cell_type": "code",
   "execution_count": 9,
   "metadata": {},
   "outputs": [
    {
     "data": {
      "text/plain": [
       "array([[  1,   2,   3,   4],\n",
       "       [ 40,  50,  60,  70],\n",
       "       [100, 200, 300, 400],\n",
       "       [ 15,  25,  35,  45]])"
      ]
     },
     "execution_count": 9,
     "metadata": {},
     "output_type": "execute_result"
    }
   ],
   "source": [
    "mat"
   ]
  },
  {
   "cell_type": "code",
   "execution_count": 10,
   "metadata": {
    "collapsed": true
   },
   "outputs": [
    {
     "data": {
      "text/plain": [
       "array([ 42,  84,  21, 100, 387,  94,   0,  14,  98,   6])"
      ]
     },
     "execution_count": 10,
     "metadata": {},
     "output_type": "execute_result"
    }
   ],
   "source": [
    "a"
   ]
  },
  {
   "cell_type": "code",
   "execution_count": 11,
   "metadata": {
    "collapsed": true
   },
   "outputs": [
    {
     "data": {
      "text/plain": [
       "array([ 21, 100, 387,  94])"
      ]
     },
     "execution_count": 11,
     "metadata": {},
     "output_type": "execute_result"
    }
   ],
   "source": [
    "a[2:6]"
   ]
  },
  {
   "cell_type": "code",
   "execution_count": 12,
   "metadata": {},
   "outputs": [
    {
     "data": {
      "text/plain": [
       "array([[  1,   2,   3,   4],\n",
       "       [ 40,  50,  60,  70],\n",
       "       [100, 200, 300, 400],\n",
       "       [ 15,  25,  35,  45]])"
      ]
     },
     "execution_count": 12,
     "metadata": {},
     "output_type": "execute_result"
    }
   ],
   "source": [
    "mat"
   ]
  },
  {
   "cell_type": "code",
   "execution_count": 17,
   "metadata": {},
   "outputs": [
    {
     "data": {
      "text/plain": [
       "array([[  1,   2,   3,   4],\n",
       "       [ 40,  50,  60,  70],\n",
       "       [100, 200, 300, 400]])"
      ]
     },
     "execution_count": 17,
     "metadata": {},
     "output_type": "execute_result"
    }
   ],
   "source": [
    "mat[0:3]"
   ]
  },
  {
   "cell_type": "code",
   "execution_count": 18,
   "metadata": {},
   "outputs": [
    {
     "data": {
      "text/plain": [
       "array([[  1,   2,   3],\n",
       "       [ 40,  50,  60],\n",
       "       [100, 200, 300],\n",
       "       [ 15,  25,  35]])"
      ]
     },
     "execution_count": 18,
     "metadata": {},
     "output_type": "execute_result"
    }
   ],
   "source": [
    "mat[:,0:3]"
   ]
  },
  {
   "cell_type": "code",
   "execution_count": 19,
   "metadata": {},
   "outputs": [
    {
     "data": {
      "text/plain": [
       "array([[  1,   2,   3],\n",
       "       [ 40,  50,  60],\n",
       "       [100, 200, 300]])"
      ]
     },
     "execution_count": 19,
     "metadata": {},
     "output_type": "execute_result"
    }
   ],
   "source": [
    "mat[0:3,0:3]"
   ]
  },
  {
   "cell_type": "code",
   "execution_count": 22,
   "metadata": {},
   "outputs": [
    {
     "data": {
      "text/plain": [
       "array([[  1,   2,   3,   4],\n",
       "       [ 40,  50,  60,  70],\n",
       "       [100, 200, 300, 400],\n",
       "       [ 15,  25,  35,  45]])"
      ]
     },
     "execution_count": 22,
     "metadata": {},
     "output_type": "execute_result"
    }
   ],
   "source": [
    "mat[:,:]"
   ]
  },
  {
   "cell_type": "code",
   "execution_count": 24,
   "metadata": {
    "collapsed": true
   },
   "outputs": [
    {
     "data": {
      "text/plain": [
       "array([[  1],\n",
       "       [ 40],\n",
       "       [100],\n",
       "       [ 15]])"
      ]
     },
     "execution_count": 24,
     "metadata": {},
     "output_type": "execute_result"
    }
   ],
   "source": [
    "mat[:,:1]"
   ]
  },
  {
   "cell_type": "code",
   "execution_count": 26,
   "metadata": {},
   "outputs": [
    {
     "data": {
      "text/plain": [
       "array([[  1,  40, 100,  15]])"
      ]
     },
     "execution_count": 26,
     "metadata": {},
     "output_type": "execute_result"
    }
   ],
   "source": [
    "mat[:,:1].reshape(1,4)"
   ]
  },
  {
   "cell_type": "code",
   "execution_count": 27,
   "metadata": {},
   "outputs": [
    {
     "data": {
      "text/plain": [
       "array([[  1,  40],\n",
       "       [100,  15]])"
      ]
     },
     "execution_count": 27,
     "metadata": {},
     "output_type": "execute_result"
    }
   ],
   "source": [
    "mat[:,:1].reshape(2,2)"
   ]
  },
  {
   "cell_type": "markdown",
   "metadata": {},
   "source": [
    "# linspace"
   ]
  },
  {
   "cell_type": "code",
   "execution_count": 32,
   "metadata": {},
   "outputs": [
    {
     "data": {
      "text/plain": [
       "array([  1. ,   8.8,  16.6,  24.4,  32.2,  40. ])"
      ]
     },
     "execution_count": 32,
     "metadata": {},
     "output_type": "execute_result"
    }
   ],
   "source": [
    "np.linspace(1,40, 6)"
   ]
  },
  {
   "cell_type": "code",
   "execution_count": 33,
   "metadata": {
    "collapsed": true
   },
   "outputs": [
    {
     "data": {
      "text/plain": [
       "array([  1.        ,   1.66101695,   2.3220339 ,   2.98305085,\n",
       "         3.6440678 ,   4.30508475,   4.96610169,   5.62711864,\n",
       "         6.28813559,   6.94915254,   7.61016949,   8.27118644,\n",
       "         8.93220339,   9.59322034,  10.25423729,  10.91525424,\n",
       "        11.57627119,  12.23728814,  12.89830508,  13.55932203,\n",
       "        14.22033898,  14.88135593,  15.54237288,  16.20338983,\n",
       "        16.86440678,  17.52542373,  18.18644068,  18.84745763,\n",
       "        19.50847458,  20.16949153,  20.83050847,  21.49152542,\n",
       "        22.15254237,  22.81355932,  23.47457627,  24.13559322,\n",
       "        24.79661017,  25.45762712,  26.11864407,  26.77966102,\n",
       "        27.44067797,  28.10169492,  28.76271186,  29.42372881,\n",
       "        30.08474576,  30.74576271,  31.40677966,  32.06779661,\n",
       "        32.72881356,  33.38983051,  34.05084746,  34.71186441,\n",
       "        35.37288136,  36.03389831,  36.69491525,  37.3559322 ,\n",
       "        38.01694915,  38.6779661 ,  39.33898305,  40.        ])"
      ]
     },
     "execution_count": 33,
     "metadata": {},
     "output_type": "execute_result"
    }
   ],
   "source": [
    "np.linspace(1,40, 60)"
   ]
  },
  {
   "cell_type": "code",
   "execution_count": 34,
   "metadata": {},
   "outputs": [],
   "source": [
    "x = np.linspace(0,90,100)"
   ]
  },
  {
   "cell_type": "code",
   "execution_count": 37,
   "metadata": {
    "collapsed": true
   },
   "outputs": [
    {
     "data": {
      "text/plain": [
       "array([  0.        ,   0.90909091,   1.81818182,   2.72727273,\n",
       "         3.63636364,   4.54545455,   5.45454545,   6.36363636,\n",
       "         7.27272727,   8.18181818,   9.09090909,  10.        ,\n",
       "        10.90909091,  11.81818182,  12.72727273,  13.63636364,\n",
       "        14.54545455,  15.45454545,  16.36363636,  17.27272727,\n",
       "        18.18181818,  19.09090909,  20.        ,  20.90909091,\n",
       "        21.81818182,  22.72727273,  23.63636364,  24.54545455,\n",
       "        25.45454545,  26.36363636,  27.27272727,  28.18181818,\n",
       "        29.09090909,  30.        ,  30.90909091,  31.81818182,\n",
       "        32.72727273,  33.63636364,  34.54545455,  35.45454545,\n",
       "        36.36363636,  37.27272727,  38.18181818,  39.09090909,\n",
       "        40.        ,  40.90909091,  41.81818182,  42.72727273,\n",
       "        43.63636364,  44.54545455,  45.45454545,  46.36363636,\n",
       "        47.27272727,  48.18181818,  49.09090909,  50.        ,\n",
       "        50.90909091,  51.81818182,  52.72727273,  53.63636364,\n",
       "        54.54545455,  55.45454545,  56.36363636,  57.27272727,\n",
       "        58.18181818,  59.09090909,  60.        ,  60.90909091,\n",
       "        61.81818182,  62.72727273,  63.63636364,  64.54545455,\n",
       "        65.45454545,  66.36363636,  67.27272727,  68.18181818,\n",
       "        69.09090909,  70.        ,  70.90909091,  71.81818182,\n",
       "        72.72727273,  73.63636364,  74.54545455,  75.45454545,\n",
       "        76.36363636,  77.27272727,  78.18181818,  79.09090909,\n",
       "        80.        ,  80.90909091,  81.81818182,  82.72727273,\n",
       "        83.63636364,  84.54545455,  85.45454545,  86.36363636,\n",
       "        87.27272727,  88.18181818,  89.09090909,  90.        ])"
      ]
     },
     "execution_count": 37,
     "metadata": {},
     "output_type": "execute_result"
    }
   ],
   "source": [
    "x"
   ]
  },
  {
   "cell_type": "code",
   "execution_count": 35,
   "metadata": {},
   "outputs": [],
   "source": [
    "y = np.sin(x)"
   ]
  },
  {
   "cell_type": "code",
   "execution_count": 40,
   "metadata": {},
   "outputs": [],
   "source": [
    "y = x**x * np.e / np.pi"
   ]
  },
  {
   "cell_type": "code",
   "execution_count": 41,
   "metadata": {
    "collapsed": true
   },
   "outputs": [
    {
     "data": {
      "text/plain": [
       "array([  8.65255979e-001,   7.93441470e-001,   2.56573883e+000,\n",
       "         1.33504300e+001,   9.46095144e+001,   8.43591944e+002,\n",
       "         9.03291019e+003,   1.12624592e+005,   1.59968354e+006,\n",
       "         2.54633711e+007,   4.48493922e+008,   8.65255979e+009,\n",
       "         1.81331964e+011,   4.09961811e+012,   9.94060248e+013,\n",
       "         2.57221331e+015,   7.07199042e+016,   2.05810847e+018,\n",
       "         6.31877035e+019,   2.04052653e+021,   6.91259581e+022,\n",
       "         2.45069336e+024,   9.07286654e+025,   3.50067916e+027,\n",
       "         1.40517786e+029,   5.85821893e+030,   2.53277517e+032,\n",
       "         1.13400912e+034,   5.25124779e+035,   2.51195552e+037,\n",
       "         1.23987620e+039,   6.30823089e+040,   3.30502657e+042,\n",
       "         1.78148533e+044,   9.87086956e+045,   5.61749121e+047,\n",
       "         3.28103831e+049,   1.96538956e+051,   1.20658498e+053,\n",
       "         7.58679244e+054,   4.88295830e+056,   3.21498674e+058,\n",
       "         2.16424240e+060,   1.48879128e+062,   1.04603029e+064,\n",
       "         7.50288875e+065,   5.49145084e+067,   4.09948465e+069,\n",
       "         3.12012751e+071,   2.42014446e+073,   1.91235365e+075,\n",
       "         1.53883451e+077,   1.26054268e+079,   1.05079071e+081,\n",
       "         8.91096295e+082,   7.68501688e+084,   6.73819896e+086,\n",
       "         6.00472946e+088,   5.43713306e+090,   5.00096642e+092,\n",
       "         4.67121638e+094,   4.42982486e+096,   4.26398593e+098,\n",
       "         4.16498269e+100,   4.12741157e+102,   4.14869550e+104,\n",
       "         4.22882421e+106,   4.37028692e+108,   4.57818377e+110,\n",
       "         4.86052048e+112,   5.22870890e+114,   5.69831601e+116,\n",
       "         6.29012866e+118,   7.03163340e+120,   7.95905453e+122,\n",
       "         9.12015493e+124,   1.05780906e+127,   1.24167349e+129,\n",
       "         1.47480678e+131,   1.77224878e+133,   2.15432894e+135,\n",
       "         2.64871138e+137,   3.29330248e+139,   4.14041161e+141,\n",
       "         5.26274485e+143,   6.76209674e+145,   8.78204003e+147,\n",
       "         1.15265782e+150,   1.52877499e+152,   2.04867632e+154,\n",
       "         2.77357123e+156,   3.79308174e+158,   5.23942676e+160,\n",
       "         7.30915006e+162,   1.02966362e+165,   1.46461701e+167,\n",
       "         2.10333664e+169,   3.04934254e+171,   4.46245601e+173,\n",
       "         6.59129059e+175])"
      ]
     },
     "execution_count": 41,
     "metadata": {},
     "output_type": "execute_result"
    }
   ],
   "source": [
    "y"
   ]
  }
 ],
 "metadata": {
  "kernelspec": {
   "display_name": "Python 3",
   "language": "python",
   "name": "python3"
  },
  "language_info": {
   "codemirror_mode": {
    "name": "ipython",
    "version": 3
   },
   "file_extension": ".py",
   "mimetype": "text/x-python",
   "name": "python",
   "nbconvert_exporter": "python",
   "pygments_lexer": "ipython3",
   "version": "3.6.5"
  }
 },
 "nbformat": 4,
 "nbformat_minor": 2
}
