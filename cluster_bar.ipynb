{
 "cells": [
  {
   "cell_type": "code",
   "execution_count": 7,
   "metadata": {},
   "outputs": [],
   "source": [
    "import matplotlib.pyplot as plt\n",
    "import pandas as pd\n",
    "import numpy as np\n",
    "from collections import Counter\n",
    "plt.style.use('ggplot')"
   ]
  },
  {
   "cell_type": "code",
   "execution_count": 9,
   "metadata": {},
   "outputs": [],
   "source": [
    "df = pd.read_excel(\"Demographic.xlsx\")"
   ]
  },
  {
   "cell_type": "code",
   "execution_count": 10,
   "metadata": {},
   "outputs": [
    {
     "data": {
      "text/plain": [
       "['seaborn-ticks',\n",
       " 'seaborn-muted',\n",
       " 'seaborn-whitegrid',\n",
       " 'seaborn-pastel',\n",
       " 'classic',\n",
       " 'seaborn-darkgrid',\n",
       " 'bmh',\n",
       " '_classic_test',\n",
       " 'seaborn-poster',\n",
       " 'seaborn',\n",
       " 'dark_background',\n",
       " 'grayscale',\n",
       " 'fast',\n",
       " 'seaborn-deep',\n",
       " 'ggplot',\n",
       " 'seaborn-colorblind',\n",
       " 'fivethirtyeight',\n",
       " 'seaborn-bright',\n",
       " 'seaborn-paper',\n",
       " 'seaborn-dark-palette',\n",
       " 'Solarize_Light2',\n",
       " 'seaborn-talk',\n",
       " 'seaborn-white',\n",
       " 'seaborn-dark',\n",
       " 'seaborn-notebook']"
      ]
     },
     "execution_count": 10,
     "metadata": {},
     "output_type": "execute_result"
    }
   ],
   "source": [
    "plt.style.available"
   ]
  },
  {
   "cell_type": "code",
   "execution_count": 11,
   "metadata": {},
   "outputs": [],
   "source": [
    "gender = Counter(df['Gender'])\n",
    "ses = Counter(df['SES'])\n",
    "state = Counter(df['Which State do You belong to ?'])"
   ]
  },
  {
   "cell_type": "code",
   "execution_count": 12,
   "metadata": {},
   "outputs": [
    {
     "data": {
      "text/plain": [
       "Counter({0: 1, 1: 148, 2: 121})"
      ]
     },
     "execution_count": 12,
     "metadata": {},
     "output_type": "execute_result"
    }
   ],
   "source": [
    "gender"
   ]
  },
  {
   "cell_type": "code",
   "execution_count": 13,
   "metadata": {},
   "outputs": [
    {
     "data": {
      "text/plain": [
       "['seaborn-ticks',\n",
       " 'seaborn-muted',\n",
       " 'seaborn-whitegrid',\n",
       " 'seaborn-pastel',\n",
       " 'classic',\n",
       " 'seaborn-darkgrid',\n",
       " 'bmh',\n",
       " '_classic_test',\n",
       " 'seaborn-poster',\n",
       " 'seaborn',\n",
       " 'dark_background',\n",
       " 'grayscale',\n",
       " 'fast',\n",
       " 'seaborn-deep',\n",
       " 'ggplot',\n",
       " 'seaborn-colorblind',\n",
       " 'fivethirtyeight',\n",
       " 'seaborn-bright',\n",
       " 'seaborn-paper',\n",
       " 'seaborn-dark-palette',\n",
       " 'Solarize_Light2',\n",
       " 'seaborn-talk',\n",
       " 'seaborn-white',\n",
       " 'seaborn-dark',\n",
       " 'seaborn-notebook']"
      ]
     },
     "execution_count": 13,
     "metadata": {},
     "output_type": "execute_result"
    }
   ],
   "source": [
    "plt.style.available"
   ]
  },
  {
   "cell_type": "code",
   "execution_count": null,
   "metadata": {},
   "outputs": [],
   "source": [
    "for style in plt.style.available:\n",
    "    plt.style.use(style)\n",
    "    print(style)\n",
    "    objects = ('Female', 'Female', 'N/A')\n",
    "    y_pos = np.arange(len(objects))\n",
    "    plt.xticks(y_pos, objects)\n",
    "    plt.bar(y_pos, [gender[1],gender[2],gender[3]])"
   ]
  },
  {
   "cell_type": "code",
   "execution_count": 14,
   "metadata": {},
   "outputs": [
    {
     "data": {
      "image/png": "[encoded data removed]",
      "text/plain": [
       "<matplotlib.figure.Figure at 0x7f57513b63c8>"
      ]
     },
     "metadata": {},
     "output_type": "display_data"
    }
   ],
   "source": [
    "plt.subplot(2,3,1)\n",
    "objects = ('Female', 'Male', 'N/A')\n",
    "y_pos = np.arange(len(objects))\n",
    "plt.xticks(y_pos, objects)\n",
    "plt.bar(y_pos, [gender[1],gender[2],gender[3]])\n",
    "plt.xticks(rotation=45)\n",
    "\n",
    "\n",
    "plt.subplot(2,3,2)\n",
    "objects = ('Low', 'Medium', 'High')\n",
    "y_pos = np.arange(len(objects))\n",
    "plt.xticks(y_pos, objects)\n",
    "plt.bar(y_pos, [ses[1],ses[2],ses[3]])\n",
    "plt.xticks(rotation=45)\n",
    "\n",
    "\n",
    "plt.subplot(2,3,3)\n",
    "objects = ('North','South' ,'East', 'West')\n",
    "y_pos = np.arange(len(objects))\n",
    "plt.xticks([0,1,2,3], objects)\n",
    "plt.bar(y_pos, [state[1],state[4], state[2],state[3]])\n",
    "\n",
    "\n",
    "plt.xticks(rotation=45)\n",
    "plt.tight_layout()\n",
    "\n",
    "plt.savefig(\"demographic_details.pdf\")"
   ]
  },
  {
   "cell_type": "code",
   "execution_count": null,
   "metadata": {},
   "outputs": [],
   "source": [
    "import numpy as np\n",
    "import matplotlib.pyplot as plt\n",
    "\n",
    "N = 5\n",
    "men_means = (20, 35, 30, 35, 27)\n",
    "men_std = (2, 3, 4, 1, 2)\n",
    "\n",
    "ind = np.arange(N)  # the x locations for the groups\n",
    "width = 0.35       # the width of the bars\n",
    "\n",
    "fig, ax = plt.subplots()\n",
    "rects1 = ax.bar(ind, men_means, width, color='r', yerr=men_std)\n",
    "\n",
    "women_means = (25, 32, 34, 20, 25)\n",
    "women_std = (3, 5, 2, 3, 3)\n",
    "rects2 = ax.bar(ind + width, women_means, width, color='y', yerr=women_std)\n",
    "\n",
    "# add some text for labels, title and axes ticks\n",
    "ax.set_ylabel('Scores')\n",
    "ax.set_title('Scores by group and gender')\n",
    "ax.set_xticks(ind + width / 2)\n",
    "ax.set_xticklabels(('G1', 'G2', 'G3', 'G4', 'G5'))\n",
    "\n",
    "ax.legend((rects1[0], rects2[0]), ('Men', 'Women'))\n",
    "\n",
    "\n",
    "def autolabel(rects):\n",
    "    \"\"\"\n",
    "    Attach a text label above each bar displaying its height\n",
    "    \"\"\"\n",
    "    for rect in rects:\n",
    "        height = rect.get_height()\n",
    "        ax.text(rect.get_x() + rect.get_width()/2., 1.05*height,\n",
    "                '%d' % int(height),\n",
    "                ha='center', va='bottom')\n",
    "\n",
    "autolabel(rects1)\n",
    "autolabel(rects2)\n",
    "\n",
    "plt.show()"
   ]
  },
  {
   "cell_type": "code",
   "execution_count": null,
   "metadata": {},
   "outputs": [],
   "source": []
  }
 ],
 "metadata": {
  "kernelspec": {
   "display_name": "Python 3",
   "language": "python",
   "name": "python3"
  },
  "language_info": {
   "codemirror_mode": {
    "name": "ipython",
    "version": 3
   },
   "file_extension": ".py",
   "mimetype": "text/x-python",
   "name": "python",
   "nbconvert_exporter": "python",
   "pygments_lexer": "ipython3",
   "version": "3.6.4"
  }
 },
 "nbformat": 4,
 "nbformat_minor": 2
}
