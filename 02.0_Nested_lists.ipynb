{
 "cells": [
  {
   "cell_type": "markdown",
   "metadata": {},
   "source": [
    "# Nested Lists\n",
    "\n",
    "I heard you like lists. So we put lists inside your lists so that you can iterate through your list while you iterate through your list"
   ]
  },
  {
   "cell_type": "code",
   "execution_count": 1,
   "metadata": {},
   "outputs": [],
   "source": [
    "star_wars_episodes = [\"Episode IV\", \"Episode V\", \"Episode VI\", \"Episode I\", \"Episode II\", \"Episode III\"]"
   ]
  },
  {
   "cell_type": "code",
   "execution_count": 2,
   "metadata": {},
   "outputs": [
    {
     "data": {
      "text/plain": [
       "['Episode IV',\n",
       " 'Episode V',\n",
       " 'Episode VI',\n",
       " 'Episode I',\n",
       " 'Episode II',\n",
       " 'Episode III']"
      ]
     },
     "execution_count": 2,
     "metadata": {},
     "output_type": "execute_result"
    }
   ],
   "source": [
    "star_wars_episodes"
   ]
  },
  {
   "cell_type": "code",
   "execution_count": 3,
   "metadata": {},
   "outputs": [
    {
     "data": {
      "text/plain": [
       "'Episode IV'"
      ]
     },
     "execution_count": 3,
     "metadata": {},
     "output_type": "execute_result"
    }
   ],
   "source": [
    "star_wars_episodes[0]"
   ]
  },
  {
   "cell_type": "code",
   "execution_count": 4,
   "metadata": {},
   "outputs": [
    {
     "data": {
      "text/plain": [
       "'E'"
      ]
     },
     "execution_count": 4,
     "metadata": {},
     "output_type": "execute_result"
    }
   ],
   "source": [
    "star_wars_episodes[0][0]"
   ]
  },
  {
   "cell_type": "code",
   "execution_count": 5,
   "metadata": {},
   "outputs": [],
   "source": [
    "star_wars_episodes[0] = [star_wars_episodes[0], 1977]\n",
    "star_wars_episodes[1] = [star_wars_episodes[1], 1980]\n",
    "star_wars_episodes[2] = [star_wars_episodes[2], 1983]\n",
    "star_wars_episodes[3] = [star_wars_episodes[3], 1999]\n",
    "star_wars_episodes[4] = [star_wars_episodes[4], 2002]\n",
    "star_wars_episodes[5] = [star_wars_episodes[5], 2005]"
   ]
  },
  {
   "cell_type": "code",
   "execution_count": 6,
   "metadata": {},
   "outputs": [
    {
     "data": {
      "text/plain": [
       "[['Episode IV', 1977],\n",
       " ['Episode V', 1980],\n",
       " ['Episode VI', 1983],\n",
       " ['Episode I', 1999],\n",
       " ['Episode II', 2002],\n",
       " ['Episode III', 2005]]"
      ]
     },
     "execution_count": 6,
     "metadata": {},
     "output_type": "execute_result"
    }
   ],
   "source": [
    "star_wars_episodes"
   ]
  },
  {
   "cell_type": "code",
   "execution_count": 19,
   "metadata": {},
   "outputs": [
    {
     "data": {
      "text/plain": [
       "['Episode IV', 1977]"
      ]
     },
     "execution_count": 19,
     "metadata": {},
     "output_type": "execute_result"
    }
   ],
   "source": [
    "star_wars_episodes[0]"
   ]
  },
  {
   "cell_type": "code",
   "execution_count": 20,
   "metadata": {},
   "outputs": [
    {
     "data": {
      "text/plain": [
       "1977"
      ]
     },
     "execution_count": 20,
     "metadata": {},
     "output_type": "execute_result"
    }
   ],
   "source": [
    "star_wars_episodes[0][1]"
   ]
  },
  {
   "cell_type": "markdown",
   "metadata": {},
   "source": [
    "# appending nested lists"
   ]
  },
  {
   "cell_type": "code",
   "execution_count": 21,
   "metadata": {},
   "outputs": [],
   "source": [
    "star_wars_episodes.append([\"Episode VII\", 2016])"
   ]
  },
  {
   "cell_type": "code",
   "execution_count": 22,
   "metadata": {},
   "outputs": [
    {
     "data": {
      "text/plain": [
       "[['Episode IV', 1977],\n",
       " ['Episode V', 1980],\n",
       " ['Episode VI', 1983],\n",
       " ['Episode I', 1999],\n",
       " ['Episode II', 2002],\n",
       " ['Episode III', 2005],\n",
       " ['Episode VII', 2016],\n",
       " ['Episode VII', 2016]]"
      ]
     },
     "execution_count": 22,
     "metadata": {},
     "output_type": "execute_result"
    }
   ],
   "source": [
    "star_wars_episodes"
   ]
  },
  {
   "cell_type": "markdown",
   "metadata": {},
   "source": [
    "## Split and Join"
   ]
  },
  {
   "cell_type": "code",
   "execution_count": 24,
   "metadata": {},
   "outputs": [],
   "source": [
    "yoda = \"Do or do not, there's no try!\""
   ]
  },
  {
   "cell_type": "code",
   "execution_count": 25,
   "metadata": {},
   "outputs": [
    {
     "data": {
      "text/plain": [
       "['Do', 'or', 'do', 'not,', \"there's\", 'no', 'try!']"
      ]
     },
     "execution_count": 25,
     "metadata": {},
     "output_type": "execute_result"
    }
   ],
   "source": [
    "yoda.split()"
   ]
  },
  {
   "cell_type": "code",
   "execution_count": 26,
   "metadata": {},
   "outputs": [
    {
     "data": {
      "text/plain": [
       "\"Do or do not, there's no try!\""
      ]
     },
     "execution_count": 26,
     "metadata": {},
     "output_type": "execute_result"
    }
   ],
   "source": [
    "yoda"
   ]
  },
  {
   "cell_type": "code",
   "execution_count": 27,
   "metadata": {},
   "outputs": [
    {
     "data": {
      "text/plain": [
       "['Do or do not', \" there's no try!\"]"
      ]
     },
     "execution_count": 27,
     "metadata": {},
     "output_type": "execute_result"
    }
   ],
   "source": [
    "yoda.split(\",\")"
   ]
  },
  {
   "cell_type": "code",
   "execution_count": 28,
   "metadata": {},
   "outputs": [],
   "source": [
    "# join\n",
    "star_wars_episodes = [\"Episode IV\", \"Episode V\", \"Episode VI\", \"Episode I\", \"Episode II\", \"Episode III\"]"
   ]
  },
  {
   "cell_type": "code",
   "execution_count": 29,
   "metadata": {},
   "outputs": [
    {
     "data": {
      "text/plain": [
       "'Episode IV Episode V Episode VI Episode I Episode II Episode III'"
      ]
     },
     "execution_count": 29,
     "metadata": {},
     "output_type": "execute_result"
    }
   ],
   "source": [
    "\" \".join(star_wars_episodes)"
   ]
  },
  {
   "cell_type": "code",
   "execution_count": 30,
   "metadata": {},
   "outputs": [
    {
     "data": {
      "text/plain": [
       "'Episode IV@$%Episode V@$%Episode VI@$%Episode I@$%Episode II@$%Episode III'"
      ]
     },
     "execution_count": 30,
     "metadata": {},
     "output_type": "execute_result"
    }
   ],
   "source": [
    "\"@$%\".join(star_wars_episodes)"
   ]
  },
  {
   "cell_type": "markdown",
   "metadata": {},
   "source": [
    "### sum() max() min()"
   ]
  },
  {
   "cell_type": "markdown",
   "metadata": {},
   "source": [
    "## The story of *"
   ]
  },
  {
   "cell_type": "code",
   "execution_count": 32,
   "metadata": {},
   "outputs": [
    {
     "data": {
      "text/plain": [
       "\"Do or do not, there's no try!\""
      ]
     },
     "execution_count": 32,
     "metadata": {},
     "output_type": "execute_result"
    }
   ],
   "source": [
    "yoda"
   ]
  },
  {
   "cell_type": "code",
   "execution_count": 37,
   "metadata": {},
   "outputs": [
    {
     "data": {
      "text/plain": [
       "\"Do or do not, there's no try!Do or do not, there's no try!Do or do not, there's no try!Do or do not, there's no try!Do or do not, there's no try!Do or do not, there's no try!Do or do not, there's no try!Do or do not, there's no try!Do or do not, there's no try!Do or do not, there's no try!Do or do not, there's no try!Do or do not, there's no try!Do or do not, there's no try!Do or do not, there's no try!Do or do not, there's no try!Do or do not, there's no try!Do or do not, there's no try!Do or do not, there's no try!Do or do not, there's no try!Do or do not, there's no try!Do or do not, there's no try!Do or do not, there's no try!Do or do not, there's no try!Do or do not, there's no try!Do or do not, there's no try!Do or do not, there's no try!Do or do not, there's no try!Do or do not, there's no try!Do or do not, there's no try!\""
      ]
     },
     "execution_count": 37,
     "metadata": {},
     "output_type": "execute_result"
    }
   ],
   "source": [
    "yoda * len(yoda)"
   ]
  },
  {
   "cell_type": "code",
   "execution_count": 36,
   "metadata": {
    "collapsed": true
   },
   "outputs": [
    {
     "data": {
      "text/plain": [
       "['Do',\n",
       " 'or',\n",
       " 'do',\n",
       " 'not,',\n",
       " \"there's\",\n",
       " 'no',\n",
       " 'try!',\n",
       " 'Do',\n",
       " 'or',\n",
       " 'do',\n",
       " 'not,',\n",
       " \"there's\",\n",
       " 'no',\n",
       " 'try!',\n",
       " 'Do',\n",
       " 'or',\n",
       " 'do',\n",
       " 'not,',\n",
       " \"there's\",\n",
       " 'no',\n",
       " 'try!',\n",
       " 'Do',\n",
       " 'or',\n",
       " 'do',\n",
       " 'not,',\n",
       " \"there's\",\n",
       " 'no',\n",
       " 'try!',\n",
       " 'Do',\n",
       " 'or',\n",
       " 'do',\n",
       " 'not,',\n",
       " \"there's\",\n",
       " 'no',\n",
       " 'try!']"
      ]
     },
     "execution_count": 36,
     "metadata": {},
     "output_type": "execute_result"
    }
   ],
   "source": [
    "yoda.split() * 5"
   ]
  },
  {
   "cell_type": "markdown",
   "metadata": {},
   "source": [
    "#### Nesting of function"
   ]
  },
  {
   "cell_type": "code",
   "execution_count": 41,
   "metadata": {},
   "outputs": [
    {
     "data": {
      "text/plain": [
       "\"Do $ or $ do $ not, $ there's $ no $ try!Do $ or $ do $ not, $ there's $ no $ try!Do $ or $ do $ not, $ there's $ no $ try!Do $ or $ do $ not, $ there's $ no $ try!Do $ or $ do $ not, $ there's $ no $ try!\""
      ]
     },
     "execution_count": 41,
     "metadata": {},
     "output_type": "execute_result"
    }
   ],
   "source": [
    "\" $ \".join(yoda.split()) * 5"
   ]
  },
  {
   "cell_type": "code",
   "execution_count": 46,
   "metadata": {},
   "outputs": [],
   "source": [
    "len?"
   ]
  },
  {
   "cell_type": "code",
   "execution_count": null,
   "metadata": {},
   "outputs": [],
   "source": []
  }
 ],
 "metadata": {
  "kernelspec": {
   "display_name": "Python 3",
   "language": "python",
   "name": "python3"
  },
  "language_info": {
   "codemirror_mode": {
    "name": "ipython",
    "version": 3
   },
   "file_extension": ".py",
   "mimetype": "text/x-python",
   "name": "python",
   "nbconvert_exporter": "python",
   "pygments_lexer": "ipython3",
   "version": "3.6.5"
  }
 },
 "nbformat": 4,
 "nbformat_minor": 2
}
